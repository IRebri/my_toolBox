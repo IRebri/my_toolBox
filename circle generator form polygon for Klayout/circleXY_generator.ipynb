{
 "cells": [
  {
   "cell_type": "code",
   "execution_count": 1,
   "metadata": {},
   "outputs": [],
   "source": [
    "import numpy as np\n",
    "def getCoordCircle(raduis = 30.0, numPoints = 100):\n",
    "    x = np.linspace(-raduis, raduis, num=round(numPoints/2))\n",
    "    y1 = np.sqrt(raduis**2-x**2)\n",
    "    \n",
    "    pos_half = np.vstack((x,y1))\n",
    "    neg_half = np.vstack((x[::-1],-1*y1[::-1]))\n",
    "    coord = np.hstack((pos_half,neg_half))\n",
    "    return coord.T"
   ]
  },
  {
   "cell_type": "code",
   "execution_count": 2,
   "metadata": {},
   "outputs": [],
   "source": [
    "R = 15.0\n",
    "N = 200\n",
    "np.savetxt(\"output/raduis{}_numPoints{}.txt\".format(round(R),N),getCoordCircle(R,N),fmt='%1.4f')"
   ]
  },
  {
   "cell_type": "code",
   "execution_count": null,
   "metadata": {},
   "outputs": [],
   "source": []
  }
 ],
 "metadata": {
  "kernelspec": {
   "display_name": "Python 3",
   "language": "python",
   "name": "python3"
  },
  "language_info": {
   "codemirror_mode": {
    "name": "ipython",
    "version": 3
   },
   "file_extension": ".py",
   "mimetype": "text/x-python",
   "name": "python",
   "nbconvert_exporter": "python",
   "pygments_lexer": "ipython3",
   "version": "3.7.4"
  }
 },
 "nbformat": 4,
 "nbformat_minor": 2
}

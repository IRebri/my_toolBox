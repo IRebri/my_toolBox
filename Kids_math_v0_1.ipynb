{
 "cells": [
  {
   "cell_type": "code",
   "execution_count": 1,
   "metadata": {
    "collapsed": true
   },
   "outputs": [],
   "source": [
    "import numpy as np\n",
    "def my20(*kids):\n",
    "    rand_A = np.random.randint(0,21, size=(1000,2))\n",
    "    A_sum_mus = np.zeros((1000,4))\n",
    "    A_sum_mus[:,:-2] = rand_A\n",
    "    A_sum_mus[:,2] = A_sum_mus[:,0] + A_sum_mus[:,1]\n",
    "    A_sum_mus[:,3] = A_sum_mus[:,0] - A_sum_mus[:,1]\n",
    "    var = A_sum_mus[(A_sum_mus[:,3]>0) & (A_sum_mus[:,2]<20)]\n",
    "\n",
    "    return var[:20,:]\n",
    "def one_file(name = \"Nazar.txt\"):\n",
    "    x = my20().astype(int)\n",
    "    y = my20().astype(int)\n",
    "    f = open(\"{0}\".format(name), \"w+\")\n",
    "    f.write('\\t\\t\\t\\t <, =, >    \\t\\t    <, =, > \\n')\n",
    "    for k in range(20):\n",
    "        i = x[np.random.randint(20)]\n",
    "        j = y[np.random.randint(20)]\n",
    "        f.write('{0} + {1} = \\t {2} - {3} = \\t {4}    {5}  \\t\\t {6} - {7}    {8} + {9}  \\n'.\n",
    "                    format(i[0], i[1], j[0], j[1], i[0], i[1], i[0], i[1], j[0], j[1]))\n",
    "#         f.write('{0} + {1} = \\t {3} <> {2}  \\t {0} - {1} =\\n'.format(int(i[0]), int(i[1]), int(i[2]), int(i[3])))\n",
    "# for i in x:\n",
    "    f.close()\n"
   ]
  },
  {
   "cell_type": "code",
   "execution_count": 2,
   "metadata": {
    "collapsed": false
   },
   "outputs": [],
   "source": [
    "for i in range(10):\n",
    "    one_file(\"Nazar{}.txt\".format(i))"
   ]
  },
  {
   "cell_type": "code",
   "execution_count": null,
   "metadata": {
    "collapsed": true
   },
   "outputs": [],
   "source": []
  }
 ],
 "metadata": {
  "anaconda-cloud": {},
  "kernelspec": {
   "display_name": "Python [conda env:rebri_env]",
   "language": "python",
   "name": "conda-env-rebri_env-py"
  },
  "language_info": {
   "codemirror_mode": {
    "name": "ipython",
    "version": 3
   },
   "file_extension": ".py",
   "mimetype": "text/x-python",
   "name": "python",
   "nbconvert_exporter": "python",
   "pygments_lexer": "ipython3",
   "version": "3.5.6"
  }
 },
 "nbformat": 4,
 "nbformat_minor": 1
}
